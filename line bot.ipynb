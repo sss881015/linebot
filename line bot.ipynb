{
 "cells": [
  {
   "cell_type": "code",
   "execution_count": 2,
   "id": "d8fa4e04",
   "metadata": {},
   "outputs": [],
   "source": [
    "from flask import request , abort ,Flask\n",
    "from linebot import LineBotApi , WebhookHandler\n",
    "from linebot.exceptions import InvalidSignatureError\n",
    "from linebot.models import TextMessage , MessageEvent ,TextSendMessage\n",
    "import re"
   ]
  },
  {
   "cell_type": "code",
   "execution_count": 11,
   "id": "2c561297",
   "metadata": {},
   "outputs": [],
   "source": [
    "channel_secret='5bfec89e6549f42f1de4dfc8ce77ae09'\n",
    "token='okr7+ur20d6V13UpNG6Lx1G58hHKYP74IjWud+q/cBEDdmpCFeA589xI21pOPi98Ketzltw4eDCQGfEF4esJ4CvULaDFESSpT9/TA4Jw2aOl5S6IJTefioqBpvw2arZumnocT1JkwpljQH0oj 1SW6gdB04t89/1O/w1cDnyilFU='\n",
    "line_bot_api=LineBotApi(token)\n",
    "handler=WebhookHandler(channel_secret)\n"
   ]
  },
  {
   "cell_type": "code",
   "execution_count": 12,
   "id": "0bd368e1",
   "metadata": {},
   "outputs": [
    {
     "name": "stdout",
     "output_type": "stream",
     "text": [
      " * Serving Flask app \"__main__\" (lazy loading)\n",
      " * Environment: production\n",
      "\u001b[31m   WARNING: This is a development server. Do not use it in a production deployment.\u001b[0m\n",
      "\u001b[2m   Use a production WSGI server instead.\u001b[0m\n",
      " * Debug mode: off\n"
     ]
    },
    {
     "name": "stderr",
     "output_type": "stream",
     "text": [
      " * Running on http://127.0.0.1:8080/ (Press CTRL+C to quit)\n",
      "127.0.0.1 - - [13/Jul/2023 20:08:55] \"POST / HTTP/1.1\" 404 -\n",
      "127.0.0.1 - - [13/Jul/2023 20:09:01] \"POST / HTTP/1.1\" 404 -\n",
      "127.0.0.1 - - [13/Jul/2023 20:10:02] \"GET / HTTP/1.1\" 404 -\n",
      "127.0.0.1 - - [13/Jul/2023 20:10:20] \"POST / HTTP/1.1\" 404 -\n",
      "127.0.0.1 - - [13/Jul/2023 20:10:30] \"POST / HTTP/1.1\" 404 -\n",
      "127.0.0.1 - - [13/Jul/2023 20:10:34] \"POST / HTTP/1.1\" 404 -\n",
      "127.0.0.1 - - [13/Jul/2023 20:11:07] \"POST / HTTP/1.1\" 404 -\n",
      "127.0.0.1 - - [13/Jul/2023 20:11:15] \"POST / HTTP/1.1\" 404 -\n"
     ]
    }
   ],
   "source": [
    "app=Flask(__name__)\n",
    "@app.route('/callback',methods=['POST'])\n",
    "def callback():\n",
    "    Signature=request.headers['X-Line-Signature']\n",
    "    body=request.get_data(as_text=True)\n",
    "    app.logger.info(\"Request body\"+body)\n",
    "    try:\n",
    "        handler.handle(body,Signature)\n",
    "    except IndentationError:\n",
    "        abort(400)\n",
    "    return 'OK'\n",
    "@handler.add(MessageEvent,message=TextMessage)\n",
    "def handler_message(event):\n",
    "    massage=even.message.text #收到訊息\n",
    "    line_bot_api.reply_message(event.reply_token,TextSendMessage(text=message))\n",
    "    \n",
    "\n",
    "\n",
    "if __name__ == '__main__':\n",
    "    app.run(port=8080)\n"
   ]
  },
  {
   "cell_type": "code",
   "execution_count": 10,
   "id": "52b91f76",
   "metadata": {},
   "outputs": [],
   "source": [
    "def handler_message(event):\n",
    "    print(event)\n",
    "    line_bot_api.reply_message(event.reply_token,TextSendMessage(text=even.message.text))"
   ]
  },
  {
   "cell_type": "code",
   "execution_count": 19,
   "id": "17b9b263",
   "metadata": {},
   "outputs": [
    {
     "name": "stdout",
     "output_type": "stream",
     "text": [
      "f\n"
     ]
    }
   ],
   "source": [
    "import re\n",
    "m='你是'\n",
    "if re.match(\"你是誰\",m): ####找完全一樣的\n",
    "    print(\"T\")\n",
    "if '1' in m :  ## 包誇\n",
    "    print(\"T\")\n",
    "else:\n",
    "    print(\"f\")"
   ]
  },
  {
   "cell_type": "code",
   "execution_count": 10,
   "id": "4733cacd",
   "metadata": {},
   "outputs": [
    {
     "ename": "NameError",
     "evalue": "name 'secret' is not defined",
     "output_type": "error",
     "traceback": [
      "\u001b[1;31m---------------------------------------------------------------------------\u001b[0m",
      "\u001b[1;31mNameError\u001b[0m                                 Traceback (most recent call last)",
      "\u001b[1;32m~\\AppData\\Local\\Temp\\ipykernel_17868\\1021480161.py\u001b[0m in \u001b[0;36m<module>\u001b[1;34m\u001b[0m\n\u001b[1;32m----> 1\u001b[1;33m \u001b[0msecret\u001b[0m\u001b[1;33m\u001b[0m\u001b[1;33m\u001b[0m\u001b[0m\n\u001b[0m",
      "\u001b[1;31mNameError\u001b[0m: name 'secret' is not defined"
     ]
    }
   ],
   "source": [
    "secret"
   ]
  }
 ],
 "metadata": {
  "kernelspec": {
   "display_name": "Python 3 (ipykernel)",
   "language": "python",
   "name": "python3"
  },
  "language_info": {
   "codemirror_mode": {
    "name": "ipython",
    "version": 3
   },
   "file_extension": ".py",
   "mimetype": "text/x-python",
   "name": "python",
   "nbconvert_exporter": "python",
   "pygments_lexer": "ipython3",
   "version": "3.9.13"
  }
 },
 "nbformat": 4,
 "nbformat_minor": 5
}
